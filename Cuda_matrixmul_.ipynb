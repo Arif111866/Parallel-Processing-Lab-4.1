{
  "cells": [
    {
      "cell_type": "markdown",
      "metadata": {
        "id": "view-in-github",
        "colab_type": "text"
      },
      "source": [
        "<a href=\"https://colab.research.google.com/github/Arif111866/Parallel-Processing-Lab-4.1/blob/main/Cuda_matrixmul_.ipynb\" target=\"_parent\"><img src=\"https://colab.research.google.com/assets/colab-badge.svg\" alt=\"Open In Colab\"/></a>"
      ]
    },
    {
      "cell_type": "markdown",
      "metadata": {
        "id": "Zy8fq4OHrvlr"
      },
      "source": [
        "X, A, B\n",
        "X => C1 = A1 * B1\n",
        "C2 = A2 * B2"
      ]
    },
    {
      "cell_type": "code",
      "execution_count": 1,
      "metadata": {
        "colab": {
          "base_uri": "https://localhost:8080/"
        },
        "id": "k1kzz-4upUwX",
        "outputId": "3d468207-08de-412f-e7e4-90ee558d9c6d"
      },
      "outputs": [
        {
          "output_type": "stream",
          "name": "stdout",
          "text": [
            "Writing asif.cu\n"
          ]
        }
      ],
      "source": [
        "%%writefile arif.cu\n",
        "#include <iostream>\n",
        "#include <cuda_runtime.h>\n",
        "using namespace std;\n",
        "\n",
        "__global__ void matrixMul(float* A, float* B, float* C, int M, int N, int P, int offset) {\n",
        "    int k = threadIdx.x + offset;\n",
        "\n",
        "    float* a = A + k * M * N;\n",
        "    float* b = B + k * N * P;\n",
        "    float* c = C + k * M * P;\n",
        "\n",
        "    for(int i = 0; i < M; i++) {\n",
        "        for(int j = 0; j < N; j++) {\n",
        "            for(int l = 0; l < P; l++) {\n",
        "                //c[i][l] += a[i][j] * b[j][l];\n",
        "                c[i * P + l] += a[i * N + j] * b[j * P + l];\n",
        "            }\n",
        "        }\n",
        "    }\n",
        "}\n",
        "\n",
        "int main(int argc, char *argv[]) {\n",
        "\n",
        "    int T = atoi(argv[1]); //koyta thread use korte parbo\n",
        "    int K = atoi(argv[2]); //koita matrix gun\n",
        "\n",
        "    //100 gun, thread 10,\n",
        "\n",
        "    int M = 400, N = 400, P = 400;\n",
        "\n",
        "    int SizeA = M * N * K;\n",
        "    int SizeB = N * P * K;\n",
        "    int SizeC = M * P * K;\n",
        "\n",
        "    //memory alocate (cpu allocate)\n",
        "    float *h_A = new float[SizeA];\n",
        "    float *h_B = new float[SizeB];\n",
        "    float *h_C = new float[SizeC];\n",
        "\n",
        "\n",
        "    //malloc (gpu allocate)\n",
        "    float *d_A;\n",
        "    cudaMalloc(&d_A, SizeA * sizeof(float));\n",
        "    float *d_B;\n",
        "    cudaMalloc(&d_B, SizeB * sizeof(float));\n",
        "    float *d_C;\n",
        "    cudaMalloc(&d_C, SizeC * sizeof(float));\n",
        "\n",
        "    //data initialize\n",
        "    for (int i = 0; i < SizeA; i++) {\n",
        "        h_A[i] = rand();\n",
        "    }\n",
        "    for(int i = 0; i < SizeB; i++) {\n",
        "        h_B[i] = rand();\n",
        "    }\n",
        "\n",
        "\n",
        "    //copy from host to device\n",
        "    cudaMemcpy(d_A, h_A, SizeA * sizeof(float), cudaMemcpyHostToDevice);\n",
        "    cudaMemcpy(d_B, h_B, SizeB * sizeof(float), cudaMemcpyHostToDevice);\n",
        "\n",
        "    //cuda process suru\n",
        "    int gunKorteHobe = K;\n",
        "    int offset = 0;\n",
        "    while(gunKorteHobe > 0){\n",
        "\n",
        "        int currentBatch = min(gunKorteHobe, T);\n",
        "\n",
        "        matrixMul<<<1,currentBatch>>>(d_A, d_B, d_C, M, N, P, offset);\n",
        "        cudaDeviceSynchronize();\n",
        "\n",
        "        gunKorteHobe -= currentBatch;\n",
        "        offset += currentBatch;\n",
        "    }\n",
        "\n",
        "    //let's copy back to cpu\n",
        "    cudaMemcpy(h_C, d_C, SizeC * sizeof(float), cudaMemcpyDeviceToHost);\n",
        "\n",
        "    cout << \"All operation done\" << endl;\n",
        "\n",
        "}"
      ]
    },
    {
      "cell_type": "code",
      "execution_count": 2,
      "metadata": {
        "id": "goRub2rNpgwE"
      },
      "outputs": [],
      "source": [
        "!nvcc -arch=sm_75 arif.cu -o arif"
      ]
    },
    {
      "cell_type": "code",
      "execution_count": 3,
      "metadata": {
        "colab": {
          "base_uri": "https://localhost:8080/"
        },
        "id": "cODjrM1npnYz",
        "outputId": "c65518bb-7959-413a-c6b2-4307002478ea"
      },
      "outputs": [
        {
          "output_type": "stream",
          "name": "stdout",
          "text": [
            "All operation done\n",
            "\n",
            "real\t1m1.000s\n",
            "user\t0m59.769s\n",
            "sys\t0m0.255s\n"
          ]
        }
      ],
      "source": [
        "!time ./arif 1 10 && sleep 2"
      ]
    },
    {
      "cell_type": "code",
      "execution_count": 4,
      "metadata": {
        "colab": {
          "base_uri": "https://localhost:8080/"
        },
        "id": "daM-kYWxrc5S",
        "outputId": "7ccd2bdb-0c56-4fad-b72d-48d20125bfbd"
      },
      "outputs": [
        {
          "output_type": "stream",
          "name": "stdout",
          "text": [
            "All operation done\n",
            "\n",
            "real\t0m25.212s\n",
            "user\t0m24.934s\n",
            "sys\t0m0.143s\n"
          ]
        }
      ],
      "source": [
        "!time ./arif 3 10 && sleep 2"
      ]
    },
    {
      "cell_type": "code",
      "execution_count": 5,
      "metadata": {
        "id": "U3AsgHo8Bjkb",
        "colab": {
          "base_uri": "https://localhost:8080/"
        },
        "outputId": "d36eded7-ed2f-46b0-99f6-77ea71835dcb"
      },
      "outputs": [
        {
          "output_type": "stream",
          "name": "stdout",
          "text": [
            "All operation done\n",
            "\n",
            "real\t0m13.946s\n",
            "user\t0m13.661s\n",
            "sys\t0m0.127s\n"
          ]
        }
      ],
      "source": [
        "!time ./arif 7 10 && sleep 2"
      ]
    },
    {
      "cell_type": "code",
      "execution_count": 6,
      "metadata": {
        "colab": {
          "base_uri": "https://localhost:8080/"
        },
        "id": "YE3CMm9cB21s",
        "outputId": "a6e641cd-56c6-4524-b30c-4e745c99a87d"
      },
      "outputs": [
        {
          "output_type": "stream",
          "name": "stdout",
          "text": [
            "All operation done\n",
            "\n",
            "real\t0m8.077s\n",
            "user\t0m7.943s\n",
            "sys\t0m0.117s\n"
          ]
        }
      ],
      "source": [
        "!time ./arif 10 10 && sleep 2"
      ]
    },
    {
      "cell_type": "code",
      "execution_count": 7,
      "metadata": {
        "colab": {
          "base_uri": "https://localhost:8080/"
        },
        "id": "cmWp3mINCADf",
        "outputId": "45facbfc-b4b0-4f82-b929-bff4f5bb316c"
      },
      "outputs": [
        {
          "output_type": "stream",
          "name": "stdout",
          "text": [
            "All operation done\n",
            "\n",
            "real\t0m8.114s\n",
            "user\t0m7.948s\n",
            "sys\t0m0.139s\n"
          ]
        }
      ],
      "source": [
        "!time ./arif 20 10 && sleep 2"
      ]
    }
  ],
  "metadata": {
    "accelerator": "GPU",
    "colab": {
      "gpuType": "T4",
      "provenance": [],
      "include_colab_link": true
    },
    "kernelspec": {
      "display_name": "Python 3",
      "name": "python3"
    },
    "language_info": {
      "name": "python"
    }
  },
  "nbformat": 4,
  "nbformat_minor": 0
}